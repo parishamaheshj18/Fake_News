{
 "cells": [
  {
   "cell_type": "code",
   "execution_count": null,
   "metadata": {
    "_cell_guid": "b1076dfc-b9ad-4769-8c92-a6c4dae69d19",
    "_uuid": "8f2839f25d086af736a60e9eeb907d3b93b6e0e5",
    "execution": {
     "iopub.execute_input": "2023-02-05T07:11:35.486479Z",
     "iopub.status.busy": "2023-02-05T07:11:35.486071Z",
     "iopub.status.idle": "2023-02-05T07:11:35.507454Z",
     "shell.execute_reply": "2023-02-05T07:11:35.505928Z",
     "shell.execute_reply.started": "2023-02-05T07:11:35.486445Z"
    }
   },
   "outputs": [],
   "source": [
    "\n",
    "\n",
    "import numpy as np # linear algebra\n",
    "import pandas as pd # data processing, CSV file I/O (e.g. pd.read_csv)\n",
    "import os\n",
    "for dirname, _, filenames in os.walk('/kaggle/input'):\n",
    "    for filename in filenames:\n",
    "        print(os.path.join(dirname, filename))\n"
   ]
  },
  {
   "cell_type": "markdown",
   "metadata": {},
   "source": []
  },
  {
   "cell_type": "markdown",
   "metadata": {},
   "source": [
    "# Importing Libraries"
   ]
  },
  {
   "cell_type": "code",
   "execution_count": null,
   "metadata": {
    "execution": {
     "iopub.execute_input": "2023-02-05T07:11:35.522003Z",
     "iopub.status.busy": "2023-02-05T07:11:35.520781Z",
     "iopub.status.idle": "2023-02-05T07:11:35.529551Z",
     "shell.execute_reply": "2023-02-05T07:11:35.528176Z",
     "shell.execute_reply.started": "2023-02-05T07:11:35.521944Z"
    }
   },
   "outputs": [],
   "source": [
    "import seaborn as sns\n",
    "import matplotlib.pyplot as plt\n",
    "from sklearn.model_selection import train_test_split\n",
    "from sklearn.metrics import accuracy_score\n",
    "from sklearn.metrics import classification_report\n",
    "import re\n",
    "import string"
   ]
  },
  {
   "cell_type": "markdown",
   "metadata": {},
   "source": [
    "# Reading csv file"
   ]
  },
  {
   "cell_type": "code",
   "execution_count": null,
   "metadata": {
    "execution": {
     "iopub.execute_input": "2023-02-05T07:11:35.554345Z",
     "iopub.status.busy": "2023-02-05T07:11:35.55312Z",
     "iopub.status.idle": "2023-02-05T07:11:36.964483Z",
     "shell.execute_reply": "2023-02-05T07:11:36.963108Z",
     "shell.execute_reply.started": "2023-02-05T07:11:35.554298Z"
    }
   },
   "outputs": [],
   "source": [
    "df0 = pd.read_csv(\"../input/fake-news-detection/Fake.csv\")\n",
    "df1 = pd.read_csv(\"../input/fake-news-detection/True.csv\")"
   ]
  },
  {
   "cell_type": "code",
   "execution_count": null,
   "metadata": {
    "execution": {
     "iopub.execute_input": "2023-02-05T07:11:36.966648Z",
     "iopub.status.busy": "2023-02-05T07:11:36.966312Z",
     "iopub.status.idle": "2023-02-05T07:11:36.980359Z",
     "shell.execute_reply": "2023-02-05T07:11:36.97906Z",
     "shell.execute_reply.started": "2023-02-05T07:11:36.966617Z"
    }
   },
   "outputs": [],
   "source": [
    "df0.head()"
   ]
  },
  {
   "cell_type": "code",
   "execution_count": null,
   "metadata": {
    "execution": {
     "iopub.execute_input": "2023-02-05T07:11:36.981984Z",
     "iopub.status.busy": "2023-02-05T07:11:36.981614Z",
     "iopub.status.idle": "2023-02-05T07:11:36.99741Z",
     "shell.execute_reply": "2023-02-05T07:11:36.996293Z",
     "shell.execute_reply.started": "2023-02-05T07:11:36.981951Z"
    }
   },
   "outputs": [],
   "source": [
    "df1.head()"
   ]
  },
  {
   "cell_type": "markdown",
   "metadata": {},
   "source": [
    "# Inserting the status column"
   ]
  },
  {
   "cell_type": "code",
   "execution_count": null,
   "metadata": {
    "execution": {
     "iopub.execute_input": "2023-02-05T07:11:37.000236Z",
     "iopub.status.busy": "2023-02-05T07:11:36.999848Z",
     "iopub.status.idle": "2023-02-05T07:11:37.007044Z",
     "shell.execute_reply": "2023-02-05T07:11:37.005844Z",
     "shell.execute_reply.started": "2023-02-05T07:11:37.000205Z"
    }
   },
   "outputs": [],
   "source": [
    "df0[\"status\"] = 0\n",
    "df1[\"status\"] = 1"
   ]
  },
  {
   "cell_type": "code",
   "execution_count": null,
   "metadata": {
    "execution": {
     "iopub.execute_input": "2023-02-05T07:11:37.009556Z",
     "iopub.status.busy": "2023-02-05T07:11:37.009123Z",
     "iopub.status.idle": "2023-02-05T07:11:37.02218Z",
     "shell.execute_reply": "2023-02-05T07:11:37.020371Z",
     "shell.execute_reply.started": "2023-02-05T07:11:37.009513Z"
    }
   },
   "outputs": [],
   "source": [
    "df0.shape"
   ]
  },
  {
   "cell_type": "code",
   "execution_count": null,
   "metadata": {
    "execution": {
     "iopub.execute_input": "2023-02-05T07:11:37.025091Z",
     "iopub.status.busy": "2023-02-05T07:11:37.024507Z",
     "iopub.status.idle": "2023-02-05T07:11:37.034429Z",
     "shell.execute_reply": "2023-02-05T07:11:37.033086Z",
     "shell.execute_reply.started": "2023-02-05T07:11:37.025043Z"
    }
   },
   "outputs": [],
   "source": [
    "df1.shape"
   ]
  },
  {
   "cell_type": "markdown",
   "metadata": {},
   "source": [
    "# merging the columns"
   ]
  },
  {
   "cell_type": "code",
   "execution_count": null,
   "metadata": {
    "execution": {
     "iopub.execute_input": "2023-02-05T07:11:37.036302Z",
     "iopub.status.busy": "2023-02-05T07:11:37.035745Z",
     "iopub.status.idle": "2023-02-05T07:11:37.060291Z",
     "shell.execute_reply": "2023-02-05T07:11:37.059089Z",
     "shell.execute_reply.started": "2023-02-05T07:11:37.036229Z"
    }
   },
   "outputs": [],
   "source": [
    "df_merge = pd.concat([df0, df1], axis =0 )\n",
    "df_merge.head(10)"
   ]
  },
  {
   "cell_type": "code",
   "execution_count": null,
   "metadata": {
    "execution": {
     "iopub.execute_input": "2023-02-05T07:11:37.062493Z",
     "iopub.status.busy": "2023-02-05T07:11:37.062156Z",
     "iopub.status.idle": "2023-02-05T07:11:37.071875Z",
     "shell.execute_reply": "2023-02-05T07:11:37.070698Z",
     "shell.execute_reply.started": "2023-02-05T07:11:37.062462Z"
    }
   },
   "outputs": [],
   "source": [
    "df_merge.columns"
   ]
  },
  {
   "cell_type": "markdown",
   "metadata": {},
   "source": [
    "# Cleaning data"
   ]
  },
  {
   "cell_type": "code",
   "execution_count": null,
   "metadata": {
    "execution": {
     "iopub.execute_input": "2023-02-05T07:11:37.074238Z",
     "iopub.status.busy": "2023-02-05T07:11:37.073644Z",
     "iopub.status.idle": "2023-02-05T07:11:37.084928Z",
     "shell.execute_reply": "2023-02-05T07:11:37.083721Z",
     "shell.execute_reply.started": "2023-02-05T07:11:37.074188Z"
    }
   },
   "outputs": [],
   "source": [
    "df = df_merge.drop([\"title\", \"subject\",\"date\"], axis = 1)"
   ]
  },
  {
   "cell_type": "code",
   "execution_count": null,
   "metadata": {
    "execution": {
     "iopub.execute_input": "2023-02-05T07:11:37.090578Z",
     "iopub.status.busy": "2023-02-05T07:11:37.0901Z",
     "iopub.status.idle": "2023-02-05T07:11:37.107352Z",
     "shell.execute_reply": "2023-02-05T07:11:37.105878Z",
     "shell.execute_reply.started": "2023-02-05T07:11:37.090532Z"
    }
   },
   "outputs": [],
   "source": [
    "df.isnull().sum()"
   ]
  },
  {
   "cell_type": "code",
   "execution_count": null,
   "metadata": {
    "execution": {
     "iopub.execute_input": "2023-02-05T07:11:37.110075Z",
     "iopub.status.busy": "2023-02-05T07:11:37.109515Z",
     "iopub.status.idle": "2023-02-05T07:11:37.122317Z",
     "shell.execute_reply": "2023-02-05T07:11:37.121238Z",
     "shell.execute_reply.started": "2023-02-05T07:11:37.110028Z"
    }
   },
   "outputs": [],
   "source": [
    "df = df.sample(frac = 1)"
   ]
  },
  {
   "cell_type": "code",
   "execution_count": null,
   "metadata": {
    "execution": {
     "iopub.execute_input": "2023-02-05T07:11:37.124797Z",
     "iopub.status.busy": "2023-02-05T07:11:37.123761Z",
     "iopub.status.idle": "2023-02-05T07:11:37.135558Z",
     "shell.execute_reply": "2023-02-05T07:11:37.134248Z",
     "shell.execute_reply.started": "2023-02-05T07:11:37.124744Z"
    }
   },
   "outputs": [],
   "source": [
    "df.reset_index(inplace = True)\n",
    "df.drop([\"index\"], axis = 1, inplace = True)"
   ]
  },
  {
   "cell_type": "code",
   "execution_count": null,
   "metadata": {
    "execution": {
     "iopub.execute_input": "2023-02-05T07:11:37.138128Z",
     "iopub.status.busy": "2023-02-05T07:11:37.137351Z",
     "iopub.status.idle": "2023-02-05T07:11:37.147318Z",
     "shell.execute_reply": "2023-02-05T07:11:37.146071Z",
     "shell.execute_reply.started": "2023-02-05T07:11:37.138079Z"
    }
   },
   "outputs": [],
   "source": [
    "df.columns"
   ]
  },
  {
   "cell_type": "code",
   "execution_count": null,
   "metadata": {
    "execution": {
     "iopub.execute_input": "2023-02-05T07:11:37.149084Z",
     "iopub.status.busy": "2023-02-05T07:11:37.148557Z",
     "iopub.status.idle": "2023-02-05T07:11:37.164786Z",
     "shell.execute_reply": "2023-02-05T07:11:37.163746Z",
     "shell.execute_reply.started": "2023-02-05T07:11:37.149051Z"
    }
   },
   "outputs": [],
   "source": [
    "df.head()"
   ]
  },
  {
   "cell_type": "code",
   "execution_count": null,
   "metadata": {
    "execution": {
     "iopub.execute_input": "2023-02-05T07:11:37.168119Z",
     "iopub.status.busy": "2023-02-05T07:11:37.166343Z",
     "iopub.status.idle": "2023-02-05T07:11:37.177102Z",
     "shell.execute_reply": "2023-02-05T07:11:37.175222Z",
     "shell.execute_reply.started": "2023-02-05T07:11:37.168072Z"
    }
   },
   "outputs": [],
   "source": [
    "def wp(text):\n",
    "    text = text.lower()\n",
    "    text = re.sub('\\[.*?\\]', '', text)\n",
    "    text = re.sub(\"\\\\W\",\" \",text) \n",
    "    text = re.sub('https?://\\S+|www\\.\\S+', '', text)\n",
    "    text = re.sub('<.*?>+', '', text)\n",
    "    text = re.sub('[%s]' % re.escape(string.punctuation), '', text)\n",
    "    text = re.sub('\\n', '', text)\n",
    "    text = re.sub('\\w*\\d\\w*', '', text)    \n",
    "    return text"
   ]
  },
  {
   "cell_type": "code",
   "execution_count": null,
   "metadata": {
    "execution": {
     "iopub.execute_input": "2023-02-05T07:11:37.179268Z",
     "iopub.status.busy": "2023-02-05T07:11:37.178618Z",
     "iopub.status.idle": "2023-02-05T07:11:58.400919Z",
     "shell.execute_reply": "2023-02-05T07:11:58.399512Z",
     "shell.execute_reply.started": "2023-02-05T07:11:37.179228Z"
    }
   },
   "outputs": [],
   "source": [
    "df[\"text\"] = df[\"text\"].apply(wp)"
   ]
  },
  {
   "cell_type": "code",
   "execution_count": null,
   "metadata": {
    "execution": {
     "iopub.execute_input": "2023-02-05T07:11:58.404693Z",
     "iopub.status.busy": "2023-02-05T07:11:58.404206Z",
     "iopub.status.idle": "2023-02-05T07:11:58.410762Z",
     "shell.execute_reply": "2023-02-05T07:11:58.409321Z",
     "shell.execute_reply.started": "2023-02-05T07:11:58.404647Z"
    }
   },
   "outputs": [],
   "source": [
    "x = df[\"text\"]\n",
    "y = df[\"status\"]"
   ]
  },
  {
   "cell_type": "markdown",
   "metadata": {},
   "source": [
    "# Train test split"
   ]
  },
  {
   "cell_type": "code",
   "execution_count": null,
   "metadata": {
    "execution": {
     "iopub.execute_input": "2023-02-05T07:11:58.413329Z",
     "iopub.status.busy": "2023-02-05T07:11:58.412301Z",
     "iopub.status.idle": "2023-02-05T07:11:58.434468Z",
     "shell.execute_reply": "2023-02-05T07:11:58.433192Z",
     "shell.execute_reply.started": "2023-02-05T07:11:58.413292Z"
    }
   },
   "outputs": [],
   "source": [
    "x_train, x_test, y_train, y_test = train_test_split(x, y, test_size=0.25,random_state=42)"
   ]
  },
  {
   "cell_type": "code",
   "execution_count": null,
   "metadata": {
    "execution": {
     "iopub.execute_input": "2023-02-05T07:11:58.437068Z",
     "iopub.status.busy": "2023-02-05T07:11:58.436176Z",
     "iopub.status.idle": "2023-02-05T07:12:14.373166Z",
     "shell.execute_reply": "2023-02-05T07:12:14.371913Z",
     "shell.execute_reply.started": "2023-02-05T07:11:58.437024Z"
    }
   },
   "outputs": [],
   "source": [
    "from sklearn.feature_extraction.text import TfidfVectorizer\n",
    "\n",
    "vectorization = TfidfVectorizer()\n",
    "xv_train = vectorization.fit_transform(x_train)\n",
    "xv_test = vectorization.transform(x_test)"
   ]
  },
  {
   "cell_type": "markdown",
   "metadata": {},
   "source": [
    "# Applying LogisticRegression"
   ]
  },
  {
   "cell_type": "code",
   "execution_count": null,
   "metadata": {
    "execution": {
     "iopub.execute_input": "2023-02-05T07:12:14.375562Z",
     "iopub.status.busy": "2023-02-05T07:12:14.374883Z",
     "iopub.status.idle": "2023-02-05T07:12:19.125316Z",
     "shell.execute_reply": "2023-02-05T07:12:19.123671Z",
     "shell.execute_reply.started": "2023-02-05T07:12:14.375515Z"
    }
   },
   "outputs": [],
   "source": [
    "from sklearn.linear_model import LogisticRegression\n",
    "\n",
    "lr = LogisticRegression()\n",
    "lr.fit(xv_train,y_train)"
   ]
  },
  {
   "cell_type": "code",
   "execution_count": null,
   "metadata": {
    "execution": {
     "iopub.execute_input": "2023-02-05T07:12:19.138739Z",
     "iopub.status.busy": "2023-02-05T07:12:19.133427Z",
     "iopub.status.idle": "2023-02-05T07:12:19.181796Z",
     "shell.execute_reply": "2023-02-05T07:12:19.179756Z",
     "shell.execute_reply.started": "2023-02-05T07:12:19.13865Z"
    }
   },
   "outputs": [],
   "source": [
    "pred_lr=lr.predict(xv_test)"
   ]
  },
  {
   "cell_type": "code",
   "execution_count": null,
   "metadata": {
    "execution": {
     "iopub.execute_input": "2023-02-05T07:12:19.185085Z",
     "iopub.status.busy": "2023-02-05T07:12:19.183784Z",
     "iopub.status.idle": "2023-02-05T07:12:19.238303Z",
     "shell.execute_reply": "2023-02-05T07:12:19.237334Z",
     "shell.execute_reply.started": "2023-02-05T07:12:19.185037Z"
    }
   },
   "outputs": [],
   "source": [
    "print(classification_report(y_test, pred_lr))"
   ]
  },
  {
   "cell_type": "markdown",
   "metadata": {},
   "source": [
    "# Accuracy score : 98%"
   ]
  },
  {
   "cell_type": "code",
   "execution_count": null,
   "metadata": {
    "execution": {
     "iopub.execute_input": "2023-02-05T07:12:19.240937Z",
     "iopub.status.busy": "2023-02-05T07:12:19.239689Z",
     "iopub.status.idle": "2023-02-05T07:12:19.250708Z",
     "shell.execute_reply": "2023-02-05T07:12:19.249248Z",
     "shell.execute_reply.started": "2023-02-05T07:12:19.240888Z"
    }
   },
   "outputs": [],
   "source": [
    "accuracy_score(y_test, pred_lr)"
   ]
  },
  {
   "cell_type": "code",
   "execution_count": null,
   "metadata": {
    "execution": {
     "iopub.execute_input": "2023-02-05T07:12:19.25333Z",
     "iopub.status.busy": "2023-02-05T07:12:19.252392Z",
     "iopub.status.idle": "2023-02-05T07:12:19.546515Z",
     "shell.execute_reply": "2023-02-05T07:12:19.545311Z",
     "shell.execute_reply.started": "2023-02-05T07:12:19.253274Z"
    }
   },
   "outputs": [],
   "source": [
    "sns.barplot(y_test, pred_lr)"
   ]
  },
  {
   "cell_type": "code",
   "execution_count": null,
   "metadata": {},
   "outputs": [],
   "source": []
  }
 ],
 "metadata": {
  "kaggle": {
   "accelerator": "none",
   "dataSources": [
    {
     "datasetId": 890123,
     "sourceId": 1510812,
     "sourceType": "datasetVersion"
    }
   ],
   "dockerImageVersionId": 30380,
   "isGpuEnabled": false,
   "isInternetEnabled": false,
   "language": "python",
   "sourceType": "notebook"
  },
  "kernelspec": {
   "display_name": "Python 3 (ipykernel)",
   "language": "python",
   "name": "python3"
  },
  "language_info": {
   "codemirror_mode": {
    "name": "ipython",
    "version": 3
   },
   "file_extension": ".py",
   "mimetype": "text/x-python",
   "name": "python",
   "nbconvert_exporter": "python",
   "pygments_lexer": "ipython3",
   "version": "3.8.18"
  }
 },
 "nbformat": 4,
 "nbformat_minor": 4
}
